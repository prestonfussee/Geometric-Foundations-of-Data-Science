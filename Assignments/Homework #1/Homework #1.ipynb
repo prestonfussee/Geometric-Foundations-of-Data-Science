{
 "cells": [
  {
   "cell_type": "code",
   "execution_count": 1,
   "metadata": {},
   "outputs": [],
   "source": [
    "import numpy as np"
   ]
  },
  {
   "cell_type": "code",
   "execution_count": 3,
   "metadata": {},
   "outputs": [],
   "source": [
    "U = np.matrix([[1,0,0,0],[0,0.6,-0.8,0],[0,0.8,0.6,0],[0,0,0,1]])\n",
    "S = np.matrix([[6,0,0],[0,4,0],[0,0,2],[0,0,0]])\n",
    "V = np.matrix([[1/np.sqrt(2),1/np.sqrt(2),0],[0,0,1],[1/np.sqrt(2),-1/np.sqrt(2),0]]).T\n",
    "\n",
    "A = U*S*V.T"
   ]
  },
  {
   "cell_type": "code",
   "execution_count": 4,
   "metadata": {},
   "outputs": [
    {
     "data": {
      "text/plain": [
       "matrix([[ 4.24264069,  4.24264069,  0.        ],\n",
       "        [-1.13137085,  1.13137085,  2.4       ],\n",
       "        [ 0.84852814, -0.84852814,  3.2       ],\n",
       "        [ 0.        ,  0.        ,  0.        ]])"
      ]
     },
     "execution_count": 4,
     "metadata": {},
     "output_type": "execute_result"
    }
   ],
   "source": [
    "A"
   ]
  },
  {
   "cell_type": "code",
   "execution_count": 8,
   "metadata": {},
   "outputs": [
    {
     "data": {
      "text/plain": [
       "matrix([[4.24264069, 4.24264069, 0.        ],\n",
       "        [0.        , 0.        , 2.4       ],\n",
       "        [0.        , 0.        , 3.2       ],\n",
       "        [0.        , 0.        , 0.        ]])"
      ]
     },
     "execution_count": 8,
     "metadata": {},
     "output_type": "execute_result"
    }
   ],
   "source": [
    "a"
   ]
  },
  {
   "cell_type": "code",
   "execution_count": 9,
   "metadata": {},
   "outputs": [
    {
     "data": {
      "text/plain": [
       "6.0"
      ]
     },
     "execution_count": 9,
     "metadata": {},
     "output_type": "execute_result"
    }
   ],
   "source": [
    "np.linalg.norm(a,2)"
   ]
  },
  {
   "cell_type": "code",
   "execution_count": 7,
   "metadata": {},
   "outputs": [],
   "source": [
    "u = np.matrix([[1,0,0,0],[0,0.6,0.8,0]]).T\n",
    "s = np.matrix([[6,0],[0,4]])\n",
    "v = np.matrix([[1/np.sqrt(2),1/np.sqrt(2),0],[0,0,1]]).T\n",
    "\n",
    "a = u*s*v.T"
   ]
  },
  {
   "cell_type": "code",
   "execution_count": 10,
   "metadata": {},
   "outputs": [],
   "source": [
    "### Problem 2"
   ]
  },
  {
   "cell_type": "code",
   "execution_count": 12,
   "metadata": {},
   "outputs": [
    {
     "data": {
      "text/plain": [
       "matrix([[ 1., -1.],\n",
       "        [-1.,  2.]])"
      ]
     },
     "execution_count": 12,
     "metadata": {},
     "output_type": "execute_result"
    }
   ],
   "source": [
    "cov = np.matrix([[2,1],[1,1]])\n",
    "cov_inv = np.linalg.inv(cov)\n",
    "cov_inv"
   ]
  },
  {
   "cell_type": "code",
   "execution_count": null,
   "metadata": {},
   "outputs": [],
   "source": []
  }
 ],
 "metadata": {
  "kernelspec": {
   "display_name": "Python 3",
   "language": "python",
   "name": "python3"
  },
  "language_info": {
   "codemirror_mode": {
    "name": "ipython",
    "version": 3
   },
   "file_extension": ".py",
   "mimetype": "text/x-python",
   "name": "python",
   "nbconvert_exporter": "python",
   "pygments_lexer": "ipython3",
   "version": "3.6.4"
  }
 },
 "nbformat": 4,
 "nbformat_minor": 2
}
